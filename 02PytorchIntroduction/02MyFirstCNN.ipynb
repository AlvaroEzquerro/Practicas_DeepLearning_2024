{
 "cells": [
  {
   "cell_type": "markdown",
   "metadata": {},
   "source": [
    "# **Deep Learning Lab: My First CNN**\n",
    "\n",
    "<img src =\"data:image/png;base64,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\" width=300 px>\n",
    "\n",
    "***\n",
    "\n",
    "This notebook is a modification from [Pytorch Introduction](https://pytorch.org/tutorials/beginner/introyt/introyt1_tutorial.html)"
   ]
  },
  {
   "cell_type": "code",
   "execution_count": 2,
   "metadata": {
    "collapsed": false
   },
   "outputs": [],
   "source": [
    "import torch                     # for all things PyTorch\n",
    "import torch.nn as nn            # for torch.nn.Module, the parent object for PyTorch models\n",
    "import torch.nn.functional as F  # for the activation function\n",
    "import torchvision\n",
    "import torchvision.transforms as transforms\n",
    "%matplotlib inline\n",
    "import torch.optim as optim\n",
    "\n",
    "import matplotlib\n",
    "import matplotlib.pyplot as plt\n",
    "import numpy as np"
   ]
  },
  {
   "cell_type": "markdown",
   "metadata": {},
   "source": [
    "## Lenet-5\n",
    "\n",
    "We will implement a variant of [LeNet-5 network](http://vision.stanford.edu/cs598_spring07/papers/Lecun98.pdf) \n",
    "adapted for 3-color images. The original architecture looked like the image below and was originally built to read small images of handwritten numbers (the MNIST dataset),\n",
    "and correctly classify which digit was represented in the image. We will\n",
    "adapt it to use 3 channels in the input.\n",
    "\n",
    "![](https://pytorch.org/tutorials/_static/img/mnist.png)\n",
    "\n",
    "Here's a summary of how it works:\n",
    "\n",
    "-   Layer C1 is a convolutional layer, meaning that it scans the input\n",
    "    image for features it learned during training. It outputs a map of\n",
    "    where it saw each of its learned features in the image. This\n",
    "    \"activation map\" is downsampled in layer S2.\n",
    "-   Layer C3 is another convolutional layer, this time scanning C1's\n",
    "    activation map for *combinations* of features. It also puts out an\n",
    "    activation map describing the spatial locations of these feature\n",
    "    combinations, which is downsampled in layer S4.\n",
    "-   Finally, the fully-connected layers at the end, F5, F6, and OUTPUT,\n",
    "    are a *classifier* that takes the final activation map, and\n",
    "    classifies it into one of ten bins representing the 10 digits.\n",
    "\n",
    "How do we express this simple neural network in code?\n"
   ]
  },
  {
   "cell_type": "code",
   "execution_count": 3,
   "metadata": {},
   "outputs": [],
   "source": [
    "class MyLeNet(nn.Module):\n",
    "    def __init__(self):\n",
    "        super().__init__()\n",
    "        self.conv1 = nn.Conv2d(3, 6, 5) # 3 input image channel, 6 output channels, \n",
    "                                        # 5x5 square convolution kernel\n",
    "        self.pool = nn.MaxPool2d(2, 2) # Max pooling over a 2x2 window with stride 2\n",
    "        self.conv2 = nn.Conv2d(6, 16, 5) \n",
    "        self.fc1 = nn.Linear(16 * 5 * 5, 120) # An affine operation: y = Wx + b\n",
    "        self.fc2 = nn.Linear(120, 84)\n",
    "        self.fc3 = nn.Linear(84, 10)\n",
    "\n",
    "    def forward(self, x):\n",
    "        x = self.pool(F.relu(self.conv1(x)))\n",
    "        x = self.pool(F.relu(self.conv2(x)))\n",
    "        x = x.view(-1, 16 * 5 * 5)\n",
    "        x = F.relu(self.fc1(x))\n",
    "        x = F.relu(self.fc2(x))\n",
    "        x = self.fc3(x)\n",
    "        return x"
   ]
  },
  {
   "cell_type": "code",
   "execution_count": 4,
   "metadata": {
    "collapsed": false
   },
   "outputs": [
    {
     "name": "stdout",
     "output_type": "stream",
     "text": [
      "MyLeNet(\n",
      "  (conv1): Conv2d(3, 6, kernel_size=(5, 5), stride=(1, 1))\n",
      "  (pool): MaxPool2d(kernel_size=2, stride=2, padding=0, dilation=1, ceil_mode=False)\n",
      "  (conv2): Conv2d(6, 16, kernel_size=(5, 5), stride=(1, 1))\n",
      "  (fc1): Linear(in_features=400, out_features=120, bias=True)\n",
      "  (fc2): Linear(in_features=120, out_features=84, bias=True)\n",
      "  (fc3): Linear(in_features=84, out_features=10, bias=True)\n",
      ")\n",
      "\n",
      "Image batch shape:\n",
      "torch.Size([1, 3, 32, 32])\n",
      "\n",
      "Raw output:\n",
      "tensor([[ 0.0836,  0.0939, -0.0797, -0.0658, -0.0402,  0.0058,  0.0416,  0.1347,\n",
      "         -0.0526,  0.0322]], grad_fn=<AddmmBackward0>)\n",
      "torch.Size([1, 10])\n"
     ]
    }
   ],
   "source": [
    "#Let's instantiate this object and run a sample input through it.\n",
    "\n",
    "net = MyLeNet()\n",
    "print(net)                         # what does the object tell us about itself?\n",
    "\n",
    "input = torch.rand(1, 3, 32, 32)   # A random 32x32 RGB image\n",
    "print('\\nImage batch shape:')\n",
    "print(input.shape)\n",
    "\n",
    "output = net(input)                # forward() is called automatically\n",
    "print('\\nRaw output:')\n",
    "print(output)\n",
    "print(output.shape)"
   ]
  },
  {
   "cell_type": "markdown",
   "metadata": {},
   "source": [
    "\n",
    "# Loading data\n",
    "\n",
    "Below, we're going to demonstrate using one of the ready-to-download,\n",
    "open-access datasets from TorchVision, how to transform the images for\n",
    "consumption by your model, and how to use the DataLoader to feed batches\n",
    "of data to your model.\n",
    "\n",
    "The first thing we need to do is transform our incoming images into a\n",
    "PyTorch tensor.\n"
   ]
  },
  {
   "cell_type": "code",
   "execution_count": 5,
   "metadata": {
    "collapsed": false
   },
   "outputs": [],
   "source": [
    "transform = transforms.Compose(\n",
    "    [transforms.ToTensor(),\n",
    "     transforms.Normalize((0.5, 0.5, 0.5), (0.5, 0.5, 0.5))])"
   ]
  },
  {
   "cell_type": "markdown",
   "metadata": {},
   "source": [
    "Here, we specify two transformations for our input:\n",
    "\n",
    "-   `transforms.ToTensor()` converts images loaded by Pillow into\n",
    "    PyTorch tensors.\n",
    "-   `transforms.Normalize()` adjusts the values of the tensor so that\n",
    "    their average is zero and their standard deviation is 1.0. Most\n",
    "    activation functions have their strongest gradients around x = 0, so\n",
    "    centering our data there can speed learning.\n",
    "    \n",
    "There are many more transforms available, including cropping, centering,\n",
    "rotation, and reflection.\n",
    "\n",
    "Next, we'll create an instance of the CIFAR10 dataset. This is a set of\n",
    "32x32 color image tiles representing 10 classes of objects: 6 of animals\n",
    "(bird, cat, deer, dog, frog, horse) and 4 of vehicles (airplane,\n",
    "automobile, ship, truck).\n",
    "\n",
    "When we instantiate our dataset, we need to tell it a few things:\n",
    "\n",
    "-   The filesystem path to where we want the data to go.\n",
    "-   Whether or not we are using this set for training; most datasets\n",
    "    will be split into training and test subsets.\n",
    "-   Whether we would like to download the dataset if we haven't already.\n",
    "-   The transformations we want to apply to the data.\n",
    "\n",
    "Once your dataset is ready, you can give it to the `DataLoader`:"
   ]
  },
  {
   "cell_type": "code",
   "execution_count": 6,
   "metadata": {
    "collapsed": false
   },
   "outputs": [
    {
     "name": "stdout",
     "output_type": "stream",
     "text": [
      "Files already downloaded and verified\n"
     ]
    }
   ],
   "source": [
    "trainset = torchvision.datasets.CIFAR10(root='./data', train=True,\n",
    "                                        download=True, transform=transform)\n",
    "\n",
    "trainloader = torch.utils.data.DataLoader(trainset, batch_size=4,\n",
    "                                          shuffle=True, num_workers=2)"
   ]
  },
  {
   "cell_type": "markdown",
   "metadata": {},
   "source": [
    "A `Dataset` subclass wraps access to the data, and is specialized to the\n",
    "type of data it's serving. The `DataLoader` knows *nothing* about the\n",
    "data, but organizes the input tensors served by the `Dataset` into\n",
    "batches with the parameters you specify.\n",
    "\n",
    "In the example above, we've asked a `DataLoader` to give us batches of 4\n",
    "images from `trainset`, randomizing their order (`shuffle=True`), and we\n",
    "told it to spin up two workers to load data from disk.\n",
    "\n",
    "It's good practice to visualize the batches your `DataLoader` serves:\n"
   ]
  },
  {
   "cell_type": "code",
   "execution_count": 7,
   "metadata": {
    "collapsed": false
   },
   "outputs": [
    {
     "name": "stdout",
     "output_type": "stream",
     "text": [
      "  cat   cat  frog  bird\n"
     ]
    },
    {
     "data": {
      "image/png": "[encoded data removed]",
      "text/plain": [
       "<Figure size 640x480 with 1 Axes>"
      ]
     },
     "metadata": {},
     "output_type": "display_data"
    }
   ],
   "source": [
    "import matplotlib.pyplot as plt\n",
    "import numpy as np\n",
    "\n",
    "classes = ('plane', 'car', 'bird', 'cat',\n",
    "           'deer', 'dog', 'frog', 'horse', 'ship', 'truck')\n",
    "\n",
    "def imshow(img):\n",
    "    img = img / 2 + 0.5     # unnormalize\n",
    "    npimg = img.numpy()\n",
    "    plt.imshow(np.transpose(npimg, (1, 2, 0)))\n",
    "\n",
    "\n",
    "# get some random training images\n",
    "dataiter = iter(trainloader)\n",
    "images, labels = next(dataiter)\n",
    "\n",
    "# show images\n",
    "imshow(torchvision.utils.make_grid(images))\n",
    "# print labels\n",
    "print(' '.join('%5s' % classes[labels[j]] for j in range(4)))"
   ]
  },
  {
   "cell_type": "markdown",
   "metadata": {},
   "source": [
    "## Training Your PyTorch Model\n",
    "\n",
    "Let's put all the pieces together, and train a model:\n"
   ]
  },
  {
   "cell_type": "markdown",
   "metadata": {},
   "source": [
    "First, we'll need test datasets. \n"
   ]
  },
  {
   "cell_type": "code",
   "execution_count": 8,
   "metadata": {
    "collapsed": false
   },
   "outputs": [
    {
     "name": "stdout",
     "output_type": "stream",
     "text": [
      "Files already downloaded and verified\n"
     ]
    }
   ],
   "source": [
    "testset = torchvision.datasets.CIFAR10(root='./data', train=False,\n",
    "                                       download=True, transform=transform)\n",
    "testloader = torch.utils.data.DataLoader(testset, batch_size=4,\n",
    "                                         shuffle=False, num_workers=2)\n",
    "\n",
    "classes = ('plane', 'car', 'bird', 'cat',\n",
    "           'deer', 'dog', 'frog', 'horse', 'ship', 'truck')"
   ]
  },
  {
   "cell_type": "markdown",
   "metadata": {},
   "source": [
    "The last ingredients we need are a loss function and an optimizer:\n"
   ]
  },
  {
   "cell_type": "code",
   "execution_count": 9,
   "metadata": {
    "collapsed": false
   },
   "outputs": [],
   "source": [
    "criterion = nn.CrossEntropyLoss()\n",
    "optimizer = optim.SGD(net.parameters(), lr=0.001, momentum=0.9)"
   ]
  },
  {
   "cell_type": "markdown",
   "metadata": {},
   "source": [
    "The **optimizer** is what drives the learning. Here we have created an\n",
    "optimizer that implements *stochastic gradient descent,* one of the more\n",
    "straightforward optimization algorithms. Besides parameters of the\n",
    "algorithm, like the learning rate (`lr`) and momentum, we also pass in\n",
    "`net.parameters()`, which is a collection of all the learning weights in\n",
    "the model - which is what the optimizer adjusts.\n",
    "\n",
    "Finally, all of this is assembled into the training loop. Go ahead and\n",
    "run this cell, as it will likely take a few minutes to execute:\n"
   ]
  },
  {
   "cell_type": "code",
   "execution_count": 10,
   "metadata": {
    "collapsed": false
   },
   "outputs": [
    {
     "name": "stdout",
     "output_type": "stream",
     "text": [
      "[1,  2000] loss: 2.188\n",
      "[1,  4000] loss: 1.853\n",
      "[1,  6000] loss: 1.652\n",
      "[1,  8000] loss: 1.557\n",
      "[1, 10000] loss: 1.500\n",
      "[1, 12000] loss: 1.455\n",
      "[2,  2000] loss: 1.385\n",
      "[2,  4000] loss: 1.390\n",
      "[2,  6000] loss: 1.334\n",
      "[2,  8000] loss: 1.305\n",
      "[2, 10000] loss: 1.289\n",
      "[2, 12000] loss: 1.266\n",
      "Finished Training\n"
     ]
    }
   ],
   "source": [
    "for epoch in range(2):  # loop over the dataset multiple times\n",
    "\n",
    "    running_loss = 0.0\n",
    "    for i, data in enumerate(trainloader, 0):\n",
    "        # get the inputs\n",
    "        inputs, labels = data\n",
    "\n",
    "        # zero the parameter gradients\n",
    "        optimizer.zero_grad()\n",
    "\n",
    "        # forward + backward + optimize\n",
    "        outputs = net(inputs)\n",
    "        loss = criterion(outputs, labels)\n",
    "        loss.backward()\n",
    "        optimizer.step()\n",
    "\n",
    "        # print statistics\n",
    "        running_loss += loss.item()\n",
    "        if i % 2000 == 1999:    # print every 2000 mini-batches\n",
    "            print('[%d, %5d] loss: %.3f' %\n",
    "                  (epoch + 1, i + 1, running_loss / 2000))\n",
    "            running_loss = 0.0\n",
    "\n",
    "print('Finished Training')"
   ]
  },
  {
   "cell_type": "code",
   "execution_count": 11,
   "metadata": {
    "collapsed": false
   },
   "outputs": [
    {
     "name": "stdout",
     "output_type": "stream",
     "text": [
      "Accuracy of the network on the 10000 test images: 54 %\n"
     ]
    }
   ],
   "source": [
    "correct = 0\n",
    "total = 0\n",
    "with torch.no_grad():\n",
    "    for data in testloader:\n",
    "        images, labels = data\n",
    "        outputs = net(images)\n",
    "        _, predicted = torch.max(outputs.data, 1)\n",
    "        total += labels.size(0)\n",
    "        correct += (predicted == labels).sum().item()\n",
    "\n",
    "print('Accuracy of the network on the 10000 test images: %d %%' % (\n",
    "    100 * correct / total))"
   ]
  }
 ],
 "metadata": {
  "kernelspec": {
   "display_name": "Python 3",
   "language": "python",
   "name": "python3"
  },
  "language_info": {
   "codemirror_mode": {
    "name": "ipython",
    "version": 3
   },
   "file_extension": ".py",
   "mimetype": "text/x-python",
   "name": "python",
   "nbconvert_exporter": "python",
   "pygments_lexer": "ipython3",
   "version": "3.11.8"
  }
 },
 "nbformat": 4,
 "nbformat_minor": 0
}
